{
 "cells": [
  {
   "cell_type": "code",
   "execution_count": 1,
   "id": "2ad47b5d-5d5f-4274-a5be-0b705f7fd62b",
   "metadata": {},
   "outputs": [],
   "source": [
    "from tkinter import *\n",
    "window=Tk()\n",
    "window.title(\"Calculator\")\n",
    "window.configure(bg=\"#ecf0f1\")\n",
    "\n",
    "entry=Entry(window, width=20, font=('Arial', 24), justify=RIGHT)\n",
    "entry.grid(row=0, column=0 , columnspan=4, padx=10 , pady=10)\n",
    "\n",
    "buttons=[\n",
    "    [\"(\",\")\",\"C\",\"AC\"],\n",
    "    [\"7\",\"8\",\"9\",\"/\"],\n",
    "    [\"4\",\"5\",\"6\",\"*\"],\n",
    "    [\"1\",\"2\",\"3\",\"+\"],\n",
    "    [\"0\",\".\",\"=\",\"-\"]\n",
    "]\n",
    "\n",
    "for i in range(5):\n",
    "    for j in range(4):\n",
    "        text=buttons[i][j]\n",
    "        btn=Button(window, text=text,bg=\"#bdc3c7\",fg=\"black\", width=5, height=2, font=('Arial',18),\n",
    "                  command=lambda t=text: on_click(t))\n",
    "        btn.grid(row=i+2,column=j,padx=5,pady=5)\n",
    "\n",
    "just_evaluated = False \n",
    "\n",
    "def on_click(button_text):\n",
    "    global just_evaluated  \n",
    "    current_input = entry.get()\n",
    "\n",
    "    if button_text == \"=\":\n",
    "        try:\n",
    "            result = eval(current_input)\n",
    "            entry.delete(0, END)\n",
    "            entry.insert(END, str(result))\n",
    "            just_evaluated = True  \n",
    "        except:\n",
    "            entry.delete(0, END)\n",
    "            entry.insert(END, \"Error\")\n",
    "            just_evaluated = True  \n",
    "\n",
    "    elif button_text == \"AC\":\n",
    "        entry.delete(0, END)\n",
    "        just_evaluated = False\n",
    "\n",
    "    elif button_text == \"C\":\n",
    "        entry.delete(0, END)\n",
    "        entry.insert(0, current_input[:-1])\n",
    "        just_evaluated = False\n",
    "\n",
    "    else:\n",
    "        if just_evaluated:\n",
    "            entry.delete(0, END)\n",
    "            just_evaluated = False\n",
    "\n",
    "        entry.insert(END, button_text)\n",
    "\n",
    "\n",
    "window.mainloop()\n",
    "        "
   ]
  },
  {
   "cell_type": "code",
   "execution_count": null,
   "id": "a5dde78f-ab6b-4b66-a149-693e8d993600",
   "metadata": {},
   "outputs": [],
   "source": []
  },
  {
   "cell_type": "code",
   "execution_count": null,
   "id": "307a38c4-dee7-4f4e-b466-981c821d9587",
   "metadata": {},
   "outputs": [],
   "source": []
  }
 ],
 "metadata": {
  "kernelspec": {
   "display_name": "Python [conda env:base] *",
   "language": "python",
   "name": "conda-base-py"
  },
  "language_info": {
   "codemirror_mode": {
    "name": "ipython",
    "version": 3
   },
   "file_extension": ".py",
   "mimetype": "text/x-python",
   "name": "python",
   "nbconvert_exporter": "python",
   "pygments_lexer": "ipython3",
   "version": "3.12.7"
  }
 },
 "nbformat": 4,
 "nbformat_minor": 5
}
